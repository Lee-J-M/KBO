{
 "cells": [
  {
   "cell_type": "code",
   "execution_count": 1,
   "metadata": {},
   "outputs": [],
   "source": [
    "import pandas as pd\n",
    "import numpy \n",
    "import tensorflow\n",
    "\n",
    "from tensorflow.keras.models import Sequential\n",
    "from tensorflow.keras.layers import Dense"
   ]
  },
  {
   "cell_type": "code",
   "execution_count": 6,
   "metadata": {},
   "outputs": [],
   "source": [
    "model=Sequential()\n",
    "model.add(Dense(40,input_dim=4,activation='relu'))\n",
    "model.add(Dense(30,activation='relu'))\n",
    "model.add(Dense(25,activation='relu'))\n",
    "model.add(Dense(20,activation='relu'))\n",
    "model.add(Dense(15,activation='relu'))\n",
    "model.add(Dense(10,activation='relu'))\n",
    "model.add(Dense(6,activation='relu'))\n",
    "model.add(Dense(1))\n",
    "\n",
    "model.compile(loss='mean_squared_error',optimizer='adam',metrics=['accuracy'])"
   ]
  },
  {
   "cell_type": "code",
   "execution_count": 7,
   "metadata": {},
   "outputs": [
    {
     "name": "stdout",
     "output_type": "stream",
     "text": [
      "WARNING:tensorflow:Falling back from v2 loop because of error: Failed to find data adapter that can handle input: <class 'pandas.core.frame.DataFrame'>, <class 'NoneType'>\n",
      "Train on 116 samples\n",
      "Epoch 1/40\n",
      "116/116 [==============================] - 0s 696us/sample - loss: 6.6582 - accuracy: 0.0517\n",
      "Epoch 2/40\n",
      "116/116 [==============================] - 0s 95us/sample - loss: 4.6877 - accuracy: 0.0517\n",
      "Epoch 3/40\n",
      "116/116 [==============================] - 0s 86us/sample - loss: 4.2912 - accuracy: 0.0517\n",
      "Epoch 4/40\n",
      "116/116 [==============================] - 0s 95us/sample - loss: 4.1006 - accuracy: 0.0517\n",
      "Epoch 5/40\n",
      "116/116 [==============================] - 0s 95us/sample - loss: 3.8768 - accuracy: 0.0517\n",
      "Epoch 6/40\n",
      "116/116 [==============================] - 0s 95us/sample - loss: 3.5205 - accuracy: 0.0517\n",
      "Epoch 7/40\n",
      "116/116 [==============================] - 0s 86us/sample - loss: 2.9028 - accuracy: 0.0603\n",
      "Epoch 8/40\n",
      "116/116 [==============================] - 0s 86us/sample - loss: 1.7978 - accuracy: 0.0862\n",
      "Epoch 9/40\n",
      "116/116 [==============================] - 0s 95us/sample - loss: 1.2849 - accuracy: 0.0862\n",
      "Epoch 10/40\n",
      "116/116 [==============================] - 0s 86us/sample - loss: 1.2826 - accuracy: 0.0862\n",
      "Epoch 11/40\n",
      "116/116 [==============================] - 0s 86us/sample - loss: 1.2854 - accuracy: 0.0862\n",
      "Epoch 12/40\n",
      "116/116 [==============================] - 0s 95us/sample - loss: 1.2849 - accuracy: 0.0862\n",
      "Epoch 13/40\n",
      "116/116 [==============================] - 0s 95us/sample - loss: 1.2786 - accuracy: 0.0862\n",
      "Epoch 14/40\n",
      "116/116 [==============================] - 0s 86us/sample - loss: 1.2633 - accuracy: 0.0862\n",
      "Epoch 15/40\n",
      "116/116 [==============================] - 0s 86us/sample - loss: 1.2640 - accuracy: 0.0862\n",
      "Epoch 16/40\n",
      "116/116 [==============================] - 0s 95us/sample - loss: 1.2615 - accuracy: 0.0862\n",
      "Epoch 17/40\n",
      "116/116 [==============================] - 0s 95us/sample - loss: 1.2604 - accuracy: 0.0862\n",
      "Epoch 18/40\n",
      "116/116 [==============================] - 0s 86us/sample - loss: 1.2718 - accuracy: 0.0862\n",
      "Epoch 19/40\n",
      "116/116 [==============================] - 0s 95us/sample - loss: 1.2590 - accuracy: 0.0862\n",
      "Epoch 20/40\n",
      "116/116 [==============================] - 0s 103us/sample - loss: 1.2577 - accuracy: 0.0862\n",
      "Epoch 21/40\n",
      "116/116 [==============================] - 0s 95us/sample - loss: 1.2614 - accuracy: 0.0862\n",
      "Epoch 22/40\n",
      "116/116 [==============================] - 0s 103us/sample - loss: 1.2570 - accuracy: 0.0862\n",
      "Epoch 23/40\n",
      "116/116 [==============================] - 0s 112us/sample - loss: 1.2575 - accuracy: 0.0862\n",
      "Epoch 24/40\n",
      "116/116 [==============================] - 0s 103us/sample - loss: 1.2573 - accuracy: 0.0862\n",
      "Epoch 25/40\n",
      "116/116 [==============================] - 0s 103us/sample - loss: 1.2851 - accuracy: 0.0862\n",
      "Epoch 26/40\n",
      "116/116 [==============================] - 0s 86us/sample - loss: 1.2853 - accuracy: 0.0862\n",
      "Epoch 27/40\n",
      "116/116 [==============================] - 0s 95us/sample - loss: 1.2547 - accuracy: 0.0862\n",
      "Epoch 28/40\n",
      "116/116 [==============================] - 0s 86us/sample - loss: 1.2528 - accuracy: 0.0862\n",
      "Epoch 29/40\n",
      "116/116 [==============================] - 0s 95us/sample - loss: 1.2786 - accuracy: 0.0862\n",
      "Epoch 30/40\n",
      "116/116 [==============================] - 0s 86us/sample - loss: 1.2555 - accuracy: 0.0862\n",
      "Epoch 31/40\n",
      "116/116 [==============================] - 0s 103us/sample - loss: 1.2644 - accuracy: 0.0862\n",
      "Epoch 32/40\n",
      "116/116 [==============================] - 0s 95us/sample - loss: 1.2627 - accuracy: 0.0862\n",
      "Epoch 33/40\n",
      "116/116 [==============================] - 0s 95us/sample - loss: 1.2527 - accuracy: 0.0862\n",
      "Epoch 34/40\n",
      "116/116 [==============================] - 0s 86us/sample - loss: 1.2605 - accuracy: 0.0862\n",
      "Epoch 35/40\n",
      "116/116 [==============================] - 0s 95us/sample - loss: 1.2797 - accuracy: 0.0862\n",
      "Epoch 36/40\n",
      "116/116 [==============================] - 0s 86us/sample - loss: 1.2536 - accuracy: 0.0862\n",
      "Epoch 37/40\n",
      "116/116 [==============================] - 0s 103us/sample - loss: 1.2605 - accuracy: 0.0862\n",
      "Epoch 38/40\n",
      "116/116 [==============================] - 0s 86us/sample - loss: 1.2875 - accuracy: 0.0862\n",
      "Epoch 39/40\n",
      "116/116 [==============================] - 0s 95us/sample - loss: 1.2892 - accuracy: 0.0862\n",
      "Epoch 40/40\n",
      "116/116 [==============================] - 0s 95us/sample - loss: 1.2550 - accuracy: 0.0862\n"
     ]
    },
    {
     "data": {
      "text/plain": [
       "<tensorflow.python.keras.callbacks.History at 0x28f4b8eee08>"
      ]
     },
     "execution_count": 7,
     "metadata": {},
     "output_type": "execute_result"
    }
   ],
   "source": [
    "#18년도 데이터로 FITTING\n",
    "df_18=pd.read_csv(\"팀투수_2018.csv\",parse_dates=['GDAY_DS'])\n",
    "\n",
    "df_18[\"T_avg_ER\"]=(df_18['ER']*9)/df_18['INN2']\n",
    "df_18[\"WHIP\"]=(df_18['HIT']+df_18['HR']+df_18['BB'])/df_18['INN2']\n",
    "del df_18['ER']\n",
    "del df_18['INN2']\n",
    "\n",
    "df_18_LT=df_18[df_18['T_ID']=='LT']\n",
    "df_18_LT=df_18_LT.set_index('GDAY_DS')\n",
    "\n",
    "#df_18_HT\n",
    "\n",
    "X_18_LT=df_18_LT[['HIT','WHIP','PA','HR']]\n",
    "Y_18_LT=df_18_LT['T_avg_ER']\n",
    "\n",
    "Y_18_LT_sh=Y_18_LT.shift(-28)\n",
    "#Y_OB_19_sh\n",
    "\n",
    "model.fit(X_18_LT[:-28],Y_18_LT_sh[:-28],epochs=40,batch_size=10)"
   ]
  },
  {
   "cell_type": "code",
   "execution_count": 8,
   "metadata": {},
   "outputs": [
    {
     "name": "stdout",
     "output_type": "stream",
     "text": [
      "WARNING:tensorflow:Falling back from v2 loop because of error: Failed to find data adapter that can handle input: <class 'pandas.core.frame.DataFrame'>, <class 'NoneType'>\n",
      "Train on 116 samples\n",
      "Epoch 1/40\n",
      "116/116 [==============================] - 0s 95us/sample - loss: 1.3060 - accuracy: 0.0948\n",
      "Epoch 2/40\n",
      "116/116 [==============================] - 0s 86us/sample - loss: 1.2426 - accuracy: 0.0948\n",
      "Epoch 3/40\n",
      "116/116 [==============================] - 0s 95us/sample - loss: 1.2610 - accuracy: 0.0948\n",
      "Epoch 4/40\n",
      "116/116 [==============================] - 0s 103us/sample - loss: 1.2617 - accuracy: 0.0948\n",
      "Epoch 5/40\n",
      "116/116 [==============================] - 0s 95us/sample - loss: 1.2510 - accuracy: 0.0948\n",
      "Epoch 6/40\n",
      "116/116 [==============================] - 0s 95us/sample - loss: 1.2715 - accuracy: 0.0948\n",
      "Epoch 7/40\n",
      "116/116 [==============================] - 0s 86us/sample - loss: 1.2370 - accuracy: 0.0948\n",
      "Epoch 8/40\n",
      "116/116 [==============================] - 0s 95us/sample - loss: 1.2615 - accuracy: 0.0948\n",
      "Epoch 9/40\n",
      "116/116 [==============================] - 0s 86us/sample - loss: 1.2613 - accuracy: 0.0948\n",
      "Epoch 10/40\n",
      "116/116 [==============================] - 0s 86us/sample - loss: 1.2376 - accuracy: 0.0948\n",
      "Epoch 11/40\n",
      "116/116 [==============================] - 0s 86us/sample - loss: 1.2553 - accuracy: 0.0948\n",
      "Epoch 12/40\n",
      "116/116 [==============================] - 0s 103us/sample - loss: 1.2581 - accuracy: 0.0948\n",
      "Epoch 13/40\n",
      "116/116 [==============================] - 0s 103us/sample - loss: 1.2369 - accuracy: 0.0948\n",
      "Epoch 14/40\n",
      "116/116 [==============================] - 0s 95us/sample - loss: 1.2375 - accuracy: 0.0948\n",
      "Epoch 15/40\n",
      "116/116 [==============================] - 0s 86us/sample - loss: 1.2244 - accuracy: 0.0948\n",
      "Epoch 16/40\n",
      "116/116 [==============================] - 0s 86us/sample - loss: 1.2387 - accuracy: 0.0948\n",
      "Epoch 17/40\n",
      "116/116 [==============================] - 0s 86us/sample - loss: 1.2322 - accuracy: 0.0948\n",
      "Epoch 18/40\n",
      "116/116 [==============================] - 0s 86us/sample - loss: 1.2291 - accuracy: 0.0948\n",
      "Epoch 19/40\n",
      "116/116 [==============================] - 0s 95us/sample - loss: 1.2375 - accuracy: 0.0948\n",
      "Epoch 20/40\n",
      "116/116 [==============================] - 0s 86us/sample - loss: 1.2426 - accuracy: 0.0948\n",
      "Epoch 21/40\n",
      "116/116 [==============================] - 0s 86us/sample - loss: 1.2482 - accuracy: 0.0948\n",
      "Epoch 22/40\n",
      "116/116 [==============================] - 0s 95us/sample - loss: 1.2202 - accuracy: 0.0948\n",
      "Epoch 23/40\n",
      "116/116 [==============================] - 0s 103us/sample - loss: 1.2311 - accuracy: 0.0948\n",
      "Epoch 24/40\n",
      "116/116 [==============================] - 0s 86us/sample - loss: 1.2269 - accuracy: 0.0948\n",
      "Epoch 25/40\n",
      "116/116 [==============================] - 0s 86us/sample - loss: 1.2265 - accuracy: 0.0948\n",
      "Epoch 26/40\n",
      "116/116 [==============================] - 0s 86us/sample - loss: 1.2307 - accuracy: 0.0948\n",
      "Epoch 27/40\n",
      "116/116 [==============================] - 0s 95us/sample - loss: 1.2270 - accuracy: 0.0948\n",
      "Epoch 28/40\n",
      "116/116 [==============================] - 0s 95us/sample - loss: 1.2259 - accuracy: 0.0948\n",
      "Epoch 29/40\n",
      "116/116 [==============================] - 0s 95us/sample - loss: 1.2333 - accuracy: 0.0948\n",
      "Epoch 30/40\n",
      "116/116 [==============================] - 0s 95us/sample - loss: 1.2239 - accuracy: 0.0948\n",
      "Epoch 31/40\n",
      "116/116 [==============================] - 0s 95us/sample - loss: 1.2321 - accuracy: 0.0948\n",
      "Epoch 32/40\n",
      "116/116 [==============================] - 0s 86us/sample - loss: 1.2914 - accuracy: 0.0948\n",
      "Epoch 33/40\n",
      "116/116 [==============================] - 0s 86us/sample - loss: 1.2565 - accuracy: 0.0948\n",
      "Epoch 34/40\n",
      "116/116 [==============================] - 0s 103us/sample - loss: 1.2265 - accuracy: 0.0948\n",
      "Epoch 35/40\n",
      "116/116 [==============================] - 0s 95us/sample - loss: 1.2249 - accuracy: 0.0948\n",
      "Epoch 36/40\n",
      "116/116 [==============================] - 0s 112us/sample - loss: 1.2222 - accuracy: 0.0948\n",
      "Epoch 37/40\n",
      "116/116 [==============================] - 0s 86us/sample - loss: 1.2215 - accuracy: 0.0948\n",
      "Epoch 38/40\n",
      "116/116 [==============================] - 0s 95us/sample - loss: 1.2344 - accuracy: 0.0948\n",
      "Epoch 39/40\n",
      "116/116 [==============================] - 0s 95us/sample - loss: 1.2258 - accuracy: 0.0948\n",
      "Epoch 40/40\n",
      "116/116 [==============================] - 0s 86us/sample - loss: 1.2295 - accuracy: 0.0948\n"
     ]
    },
    {
     "data": {
      "text/plain": [
       "<tensorflow.python.keras.callbacks.History at 0x28f4b829d08>"
      ]
     },
     "execution_count": 8,
     "metadata": {},
     "output_type": "execute_result"
    }
   ],
   "source": [
    "#19년도 데이터로 FITTING\n",
    "df_19=pd.read_csv(\"팀투수_2019.csv\",parse_dates=['GDAY_DS'])\n",
    "\n",
    "df_19[\"T_avg_ER\"]=(df_19['ER']*9)/df_19['INN2']\n",
    "df_19[\"WHIP\"]=(df_19['HIT']+df_19['HR']+df_19['BB'])/df_19['INN2']\n",
    "del df_19['ER']\n",
    "del df_19['INN2']\n",
    "\n",
    "\n",
    "df_19_LT=df_19[df_19['T_ID']=='LT']\n",
    "df_19_LT=df_19_LT.set_index('GDAY_DS')\n",
    "\n",
    "\n",
    "X_19_LT=df_19_LT[['HIT','WHIP','PA','HR']]\n",
    "Y_19_LT=df_19_LT['T_avg_ER']\n",
    "\n",
    "Y_19_LT_sh=Y_19_LT.shift(-28)\n",
    "#Y_OB_19_sh\n",
    "\n",
    "model.fit(X_19_LT[:-28],Y_19_LT_sh[:-28],epochs=40,batch_size=10)"
   ]
  },
  {
   "cell_type": "code",
   "execution_count": 10,
   "metadata": {},
   "outputs": [
    {
     "name": "stdout",
     "output_type": "stream",
     "text": [
      "WARNING:tensorflow:Falling back from v2 loop because of error: Failed to find data adapter that can handle input: <class 'pandas.core.frame.DataFrame'>, <class 'NoneType'>\n",
      "Train on 34 samples\n",
      "Epoch 1/40\n",
      "34/34 [==============================] - 0s 147us/sample - loss: 1.4351 - accuracy: 0.0882\n",
      "Epoch 2/40\n",
      "34/34 [==============================] - 0s 118us/sample - loss: 1.4336 - accuracy: 0.0882\n",
      "Epoch 3/40\n",
      "34/34 [==============================] - 0s 117us/sample - loss: 1.4203 - accuracy: 0.0882\n",
      "Epoch 4/40\n",
      "34/34 [==============================] - 0s 147us/sample - loss: 1.3900 - accuracy: 0.0882\n",
      "Epoch 5/40\n",
      "34/34 [==============================] - 0s 118us/sample - loss: 1.3818 - accuracy: 0.0882\n",
      "Epoch 6/40\n",
      "34/34 [==============================] - 0s 118us/sample - loss: 1.3779 - accuracy: 0.0882\n",
      "Epoch 7/40\n",
      "34/34 [==============================] - 0s 176us/sample - loss: 1.4162 - accuracy: 0.0882\n",
      "Epoch 8/40\n",
      "34/34 [==============================] - 0s 118us/sample - loss: 1.3762 - accuracy: 0.0882\n",
      "Epoch 9/40\n",
      "34/34 [==============================] - 0s 176us/sample - loss: 1.3850 - accuracy: 0.0882\n",
      "Epoch 10/40\n",
      "34/34 [==============================] - 0s 118us/sample - loss: 1.3568 - accuracy: 0.0882\n",
      "Epoch 11/40\n",
      "34/34 [==============================] - 0s 147us/sample - loss: 1.3523 - accuracy: 0.0882\n",
      "Epoch 12/40\n",
      "34/34 [==============================] - 0s 206us/sample - loss: 1.3393 - accuracy: 0.0882\n",
      "Epoch 13/40\n",
      "34/34 [==============================] - 0s 118us/sample - loss: 1.3301 - accuracy: 0.0882\n",
      "Epoch 14/40\n",
      "34/34 [==============================] - 0s 147us/sample - loss: 1.3351 - accuracy: 0.0882\n",
      "Epoch 15/40\n",
      "34/34 [==============================] - 0s 147us/sample - loss: 1.3586 - accuracy: 0.0882\n",
      "Epoch 16/40\n",
      "34/34 [==============================] - 0s 118us/sample - loss: 1.3338 - accuracy: 0.0882\n",
      "Epoch 17/40\n",
      "34/34 [==============================] - 0s 147us/sample - loss: 1.3299 - accuracy: 0.0882\n",
      "Epoch 18/40\n",
      "34/34 [==============================] - 0s 147us/sample - loss: 1.3280 - accuracy: 0.0882\n",
      "Epoch 19/40\n",
      "34/34 [==============================] - 0s 118us/sample - loss: 1.3315 - accuracy: 0.0882\n",
      "Epoch 20/40\n",
      "34/34 [==============================] - 0s 147us/sample - loss: 1.3176 - accuracy: 0.0882\n",
      "Epoch 21/40\n",
      "34/34 [==============================] - 0s 88us/sample - loss: 1.3196 - accuracy: 0.0882\n",
      "Epoch 22/40\n",
      "34/34 [==============================] - 0s 147us/sample - loss: 1.3270 - accuracy: 0.0882\n",
      "Epoch 23/40\n",
      "34/34 [==============================] - 0s 147us/sample - loss: 1.3182 - accuracy: 0.0882\n",
      "Epoch 24/40\n",
      "34/34 [==============================] - 0s 118us/sample - loss: 1.2910 - accuracy: 0.0882\n",
      "Epoch 25/40\n",
      "34/34 [==============================] - 0s 118us/sample - loss: 1.2820 - accuracy: 0.0882\n",
      "Epoch 26/40\n",
      "34/34 [==============================] - 0s 118us/sample - loss: 1.2904 - accuracy: 0.0882\n",
      "Epoch 27/40\n",
      "34/34 [==============================] - 0s 118us/sample - loss: 1.2854 - accuracy: 0.0882\n",
      "Epoch 28/40\n",
      "34/34 [==============================] - 0s 147us/sample - loss: 1.2750 - accuracy: 0.0882\n",
      "Epoch 29/40\n",
      "34/34 [==============================] - 0s 117us/sample - loss: 1.2824 - accuracy: 0.0882\n",
      "Epoch 30/40\n",
      "34/34 [==============================] - 0s 147us/sample - loss: 1.2823 - accuracy: 0.0882\n",
      "Epoch 31/40\n",
      "34/34 [==============================] - 0s 147us/sample - loss: 1.2739 - accuracy: 0.0882\n",
      "Epoch 32/40\n",
      "34/34 [==============================] - 0s 147us/sample - loss: 1.2959 - accuracy: 0.0882\n",
      "Epoch 33/40\n",
      "34/34 [==============================] - 0s 118us/sample - loss: 1.2848 - accuracy: 0.0882\n",
      "Epoch 34/40\n",
      "34/34 [==============================] - 0s 176us/sample - loss: 1.2717 - accuracy: 0.0882\n",
      "Epoch 35/40\n",
      "34/34 [==============================] - 0s 147us/sample - loss: 1.2660 - accuracy: 0.0882\n",
      "Epoch 36/40\n",
      "34/34 [==============================] - 0s 118us/sample - loss: 1.2689 - accuracy: 0.0882\n",
      "Epoch 37/40\n",
      "34/34 [==============================] - 0s 147us/sample - loss: 1.2592 - accuracy: 0.0882\n",
      "Epoch 38/40\n",
      "34/34 [==============================] - 0s 147us/sample - loss: 1.2892 - accuracy: 0.0882\n",
      "Epoch 39/40\n",
      "34/34 [==============================] - 0s 118us/sample - loss: 1.2835 - accuracy: 0.0882\n",
      "Epoch 40/40\n",
      "34/34 [==============================] - 0s 118us/sample - loss: 1.3233 - accuracy: 0.0882\n"
     ]
    },
    {
     "data": {
      "text/plain": [
       "<tensorflow.python.keras.callbacks.History at 0x28f4b93b748>"
      ]
     },
     "execution_count": 10,
     "metadata": {},
     "output_type": "execute_result"
    }
   ],
   "source": [
    "#test하기 \n",
    "df_20=pd.read_csv(\"팀투수_2020.csv\",parse_dates=['GDAY_DS'])\n",
    "\n",
    "df_20[\"T_avg_ER\"]=(df_20['ER']*9)/df_20['INN2']\n",
    "df_20[\"WHIP\"]=(df_20['HIT']+df_20['HR']+df_20['BB'])/df_20['INN2']\n",
    "del df_20['ER']\n",
    "del df_20['INN2']\n",
    "\n",
    "df_20_LT=df_20[df_20['T_ID']=='LT']\n",
    "df_20_LT=df_20_LT.set_index('GDAY_DS')\n",
    "\n",
    "X_20_LT=df_20_LT[['HIT','WHIP','PA','HR']]\n",
    "Y_20_LT=df_20_LT['T_avg_ER']\n",
    "Y_20_LT_sh=Y_20_LT.shift(-28)\n",
    "\n",
    "model.fit(X_20_LT[:-28],Y_20_LT_sh[:-28],epochs=40,batch_size=10)"
   ]
  },
  {
   "cell_type": "code",
   "execution_count": 12,
   "metadata": {},
   "outputs": [
    {
     "name": "stdout",
     "output_type": "stream",
     "text": [
      "WARNING:tensorflow:Falling back from v2 loop because of error: Failed to find data adapter that can handle input: <class 'pandas.core.frame.DataFrame'>, <class 'NoneType'>\n"
     ]
    }
   ],
   "source": [
    "#예측값 구하기\n",
    "test_20=pd.read_csv('2020투수기록.csv')\n",
    "\n",
    "test_20_LT=test_20[test_20['T_ID']=='LT']\n",
    "\n",
    "test_input_LT=test_20_LT[['HIT','WHIP','PA','HR']]\n",
    "\n",
    "LT_prediction_20=model.predict(test_input_LT[-28:]).flatten()"
   ]
  },
  {
   "cell_type": "code",
   "execution_count": 13,
   "metadata": {
    "scrolled": true
   },
   "outputs": [
    {
     "data": {
      "text/plain": [
       "array([1.7935494, 1.4395458, 1.5419854, 1.0912135, 1.339107 , 1.1646799,\n",
       "       1.5258911, 1.0077865, 1.1586651, 1.5182369, 1.1196105, 0.9891256,\n",
       "       1.0541979, 1.5257409, 1.5257409, 1.3391157, 1.3845006, 1.4838859,\n",
       "       1.4007376, 1.4854288, 1.8946437, 1.4340585, 1.5369298, 1.0804846,\n",
       "       1.2301508, 1.6372446, 1.0950043, 0.9666532], dtype=float32)"
      ]
     },
     "execution_count": 13,
     "metadata": {},
     "output_type": "execute_result"
    }
   ],
   "source": [
    "LT_prediction_20"
   ]
  },
  {
   "cell_type": "code",
   "execution_count": 17,
   "metadata": {},
   "outputs": [],
   "source": [
    "LT_prediction_20=LT_prediction_20.reshape(28,1)"
   ]
  },
  {
   "cell_type": "code",
   "execution_count": 20,
   "metadata": {},
   "outputs": [
    {
     "ename": "PermissionError",
     "evalue": "[Errno 13] Permission denied: '최종결과.csv'",
     "output_type": "error",
     "traceback": [
      "\u001b[1;31m---------------------------------------------------------------------------\u001b[0m",
      "\u001b[1;31mPermissionError\u001b[0m                           Traceback (most recent call last)",
      "\u001b[1;32m<ipython-input-20-bbd0f16d2e60>\u001b[0m in \u001b[0;36m<module>\u001b[1;34m\u001b[0m\n\u001b[0;32m     13\u001b[0m \u001b[0mlines\u001b[0m\u001b[1;33m=\u001b[0m\u001b[0mLT_prediction_20\u001b[0m\u001b[1;33m\u001b[0m\u001b[1;33m\u001b[0m\u001b[0m\n\u001b[0;32m     14\u001b[0m \u001b[1;33m\u001b[0m\u001b[0m\n\u001b[1;32m---> 15\u001b[1;33m \u001b[0mf\u001b[0m \u001b[1;33m=\u001b[0m \u001b[0mopen\u001b[0m\u001b[1;33m(\u001b[0m\u001b[1;34m'최종결과.csv'\u001b[0m\u001b[1;33m,\u001b[0m\u001b[1;34m'w'\u001b[0m\u001b[1;33m,\u001b[0m\u001b[0mnewline\u001b[0m\u001b[1;33m=\u001b[0m\u001b[1;34m'8'\u001b[0m\u001b[1;33m)\u001b[0m \u001b[1;31m#원본을 훼손할 위험이 있으니 다른 파일에 저장하는 것을 추천합니다.\u001b[0m\u001b[1;33m\u001b[0m\u001b[1;33m\u001b[0m\u001b[0m\n\u001b[0m\u001b[0;32m     16\u001b[0m \u001b[0mwr\u001b[0m \u001b[1;33m=\u001b[0m \u001b[0mcsv\u001b[0m\u001b[1;33m.\u001b[0m\u001b[0mwriter\u001b[0m\u001b[1;33m(\u001b[0m\u001b[0mf\u001b[0m\u001b[1;33m)\u001b[0m\u001b[1;33m\u001b[0m\u001b[1;33m\u001b[0m\u001b[0m\n\u001b[0;32m     17\u001b[0m \u001b[0mwr\u001b[0m\u001b[1;33m.\u001b[0m\u001b[0mwriterows\u001b[0m\u001b[1;33m(\u001b[0m\u001b[0mlines\u001b[0m\u001b[1;33m)\u001b[0m\u001b[1;33m\u001b[0m\u001b[1;33m\u001b[0m\u001b[0m\n",
      "\u001b[1;31mPermissionError\u001b[0m: [Errno 13] Permission denied: '최종결과.csv'"
     ]
    }
   ],
   "source": [
    "import csv\n",
    "# f = open('최종결과.csv','r')\n",
    "# rdr = csv.reader(f)\n",
    "# lines = []\n",
    "# num=0\n",
    "# for line in rdr:\n",
    "#     if line[0] == \"KIA\":\n",
    "#         line[2] = prediction[num]\n",
    "#         num = num+1\n",
    "#     line[7]=LT_prediction[i]\n",
    "#     lines.append(line)\n",
    "# f.close()\n",
    "lines=LT_prediction_20\n",
    "\n",
    "f = open('최종결과.csv','w',newline='8') #원본을 훼손할 위험이 있으니 다른 파일에 저장하는 것을 추천합니다.\n",
    "wr = csv.writer(f)\n",
    "wr.writerows(lines)\n",
    "\n",
    "f.close()"
   ]
  }
 ],
 "metadata": {
  "kernelspec": {
   "display_name": "Python 3",
   "language": "python",
   "name": "python3"
  },
  "language_info": {
   "codemirror_mode": {
    "name": "ipython",
    "version": 3
   },
   "file_extension": ".py",
   "mimetype": "text/x-python",
   "name": "python",
   "nbconvert_exporter": "python",
   "pygments_lexer": "ipython3",
   "version": "3.7.6"
  }
 },
 "nbformat": 4,
 "nbformat_minor": 4
}
