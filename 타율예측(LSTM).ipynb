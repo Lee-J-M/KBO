{
 "cells": [
  {
   "cell_type": "code",
   "execution_count": 322,
   "metadata": {
    "colab": {
     "base_uri": "https://localhost:8080/",
     "height": 717
    },
    "id": "IgmLra7A7ZJ5",
    "outputId": "b28b78d5-2227-41f0-b392-dd12cdfbc8ca",
    "scrolled": true
   },
   "outputs": [
    {
     "data": {
      "text/html": [
       "<div>\n",
       "<style scoped>\n",
       "    .dataframe tbody tr th:only-of-type {\n",
       "        vertical-align: middle;\n",
       "    }\n",
       "\n",
       "    .dataframe tbody tr th {\n",
       "        vertical-align: top;\n",
       "    }\n",
       "\n",
       "    .dataframe thead th {\n",
       "        text-align: right;\n",
       "    }\n",
       "</style>\n",
       "<table border=\"1\" class=\"dataframe\">\n",
       "  <thead>\n",
       "    <tr style=\"text-align: right;\">\n",
       "      <th></th>\n",
       "      <th>G_ID</th>\n",
       "      <th>T_ID</th>\n",
       "      <th>VS_T_ID</th>\n",
       "      <th>HEADER_NO</th>\n",
       "      <th>TB_SC</th>\n",
       "      <th>PA</th>\n",
       "      <th>AB</th>\n",
       "      <th>RBI</th>\n",
       "      <th>RUN</th>\n",
       "      <th>HIT</th>\n",
       "      <th>H2</th>\n",
       "      <th>H3</th>\n",
       "      <th>HR</th>\n",
       "      <th>SB</th>\n",
       "      <th>CS</th>\n",
       "      <th>SH</th>\n",
       "      <th>SF</th>\n",
       "      <th>BB</th>\n",
       "      <th>IB</th>\n",
       "      <th>HP</th>\n",
       "      <th>KK</th>\n",
       "      <th>GD</th>\n",
       "      <th>ERR</th>\n",
       "      <th>LOB</th>\n",
       "      <th>P_HRA_RT</th>\n",
       "      <th>P_AB_CN</th>\n",
       "      <th>P_HIT_CN</th>\n",
       "      <th>rate</th>\n",
       "    </tr>\n",
       "    <tr>\n",
       "      <th>GDAY_DS</th>\n",
       "      <th></th>\n",
       "      <th></th>\n",
       "      <th></th>\n",
       "      <th></th>\n",
       "      <th></th>\n",
       "      <th></th>\n",
       "      <th></th>\n",
       "      <th></th>\n",
       "      <th></th>\n",
       "      <th></th>\n",
       "      <th></th>\n",
       "      <th></th>\n",
       "      <th></th>\n",
       "      <th></th>\n",
       "      <th></th>\n",
       "      <th></th>\n",
       "      <th></th>\n",
       "      <th></th>\n",
       "      <th></th>\n",
       "      <th></th>\n",
       "      <th></th>\n",
       "      <th></th>\n",
       "      <th></th>\n",
       "      <th></th>\n",
       "      <th></th>\n",
       "      <th></th>\n",
       "      <th></th>\n",
       "      <th></th>\n",
       "    </tr>\n",
       "  </thead>\n",
       "  <tbody>\n",
       "    <tr>\n",
       "      <th>2018-03-24</th>\n",
       "      <td>20180324LTSK0</td>\n",
       "      <td>LT</td>\n",
       "      <td>SK</td>\n",
       "      <td>0</td>\n",
       "      <td>T</td>\n",
       "      <td>39</td>\n",
       "      <td>33</td>\n",
       "      <td>3</td>\n",
       "      <td>5</td>\n",
       "      <td>7</td>\n",
       "      <td>2</td>\n",
       "      <td>0</td>\n",
       "      <td>0</td>\n",
       "      <td>2</td>\n",
       "      <td>0</td>\n",
       "      <td>0</td>\n",
       "      <td>0</td>\n",
       "      <td>6</td>\n",
       "      <td>0</td>\n",
       "      <td>0</td>\n",
       "      <td>12</td>\n",
       "      <td>0</td>\n",
       "      <td>2</td>\n",
       "      <td>7</td>\n",
       "      <td>0.2</td>\n",
       "      <td>10</td>\n",
       "      <td>2</td>\n",
       "      <td>0.212121</td>\n",
       "    </tr>\n",
       "    <tr>\n",
       "      <th>2018-03-25</th>\n",
       "      <td>20180325LTSK0</td>\n",
       "      <td>LT</td>\n",
       "      <td>SK</td>\n",
       "      <td>0</td>\n",
       "      <td>T</td>\n",
       "      <td>33</td>\n",
       "      <td>32</td>\n",
       "      <td>0</td>\n",
       "      <td>0</td>\n",
       "      <td>5</td>\n",
       "      <td>1</td>\n",
       "      <td>0</td>\n",
       "      <td>0</td>\n",
       "      <td>0</td>\n",
       "      <td>0</td>\n",
       "      <td>0</td>\n",
       "      <td>0</td>\n",
       "      <td>1</td>\n",
       "      <td>0</td>\n",
       "      <td>0</td>\n",
       "      <td>9</td>\n",
       "      <td>1</td>\n",
       "      <td>0</td>\n",
       "      <td>6</td>\n",
       "      <td>0.0</td>\n",
       "      <td>2</td>\n",
       "      <td>0</td>\n",
       "      <td>0.156250</td>\n",
       "    </tr>\n",
       "    <tr>\n",
       "      <th>2018-03-27</th>\n",
       "      <td>20180327LTOB0</td>\n",
       "      <td>LT</td>\n",
       "      <td>OB</td>\n",
       "      <td>0</td>\n",
       "      <td>T</td>\n",
       "      <td>31</td>\n",
       "      <td>29</td>\n",
       "      <td>0</td>\n",
       "      <td>0</td>\n",
       "      <td>3</td>\n",
       "      <td>0</td>\n",
       "      <td>0</td>\n",
       "      <td>0</td>\n",
       "      <td>0</td>\n",
       "      <td>0</td>\n",
       "      <td>0</td>\n",
       "      <td>0</td>\n",
       "      <td>2</td>\n",
       "      <td>0</td>\n",
       "      <td>0</td>\n",
       "      <td>11</td>\n",
       "      <td>1</td>\n",
       "      <td>0</td>\n",
       "      <td>4</td>\n",
       "      <td>0.0</td>\n",
       "      <td>3</td>\n",
       "      <td>0</td>\n",
       "      <td>0.103448</td>\n",
       "    </tr>\n",
       "    <tr>\n",
       "      <th>2018-03-28</th>\n",
       "      <td>20180328LTOB0</td>\n",
       "      <td>LT</td>\n",
       "      <td>OB</td>\n",
       "      <td>0</td>\n",
       "      <td>T</td>\n",
       "      <td>42</td>\n",
       "      <td>36</td>\n",
       "      <td>5</td>\n",
       "      <td>5</td>\n",
       "      <td>10</td>\n",
       "      <td>4</td>\n",
       "      <td>1</td>\n",
       "      <td>0</td>\n",
       "      <td>0</td>\n",
       "      <td>0</td>\n",
       "      <td>1</td>\n",
       "      <td>0</td>\n",
       "      <td>4</td>\n",
       "      <td>0</td>\n",
       "      <td>1</td>\n",
       "      <td>9</td>\n",
       "      <td>1</td>\n",
       "      <td>2</td>\n",
       "      <td>10</td>\n",
       "      <td>0.2</td>\n",
       "      <td>15</td>\n",
       "      <td>3</td>\n",
       "      <td>0.277778</td>\n",
       "    </tr>\n",
       "    <tr>\n",
       "      <th>2018-03-29</th>\n",
       "      <td>20180329LTOB0</td>\n",
       "      <td>LT</td>\n",
       "      <td>OB</td>\n",
       "      <td>0</td>\n",
       "      <td>T</td>\n",
       "      <td>36</td>\n",
       "      <td>32</td>\n",
       "      <td>1</td>\n",
       "      <td>1</td>\n",
       "      <td>4</td>\n",
       "      <td>0</td>\n",
       "      <td>0</td>\n",
       "      <td>1</td>\n",
       "      <td>0</td>\n",
       "      <td>0</td>\n",
       "      <td>0</td>\n",
       "      <td>0</td>\n",
       "      <td>4</td>\n",
       "      <td>0</td>\n",
       "      <td>0</td>\n",
       "      <td>8</td>\n",
       "      <td>0</td>\n",
       "      <td>1</td>\n",
       "      <td>8</td>\n",
       "      <td>0.0</td>\n",
       "      <td>3</td>\n",
       "      <td>0</td>\n",
       "      <td>0.156250</td>\n",
       "    </tr>\n",
       "  </tbody>\n",
       "</table>\n",
       "</div>"
      ],
      "text/plain": [
       "                     G_ID T_ID VS_T_ID  ...  P_AB_CN P_HIT_CN      rate\n",
       "GDAY_DS                                 ...                            \n",
       "2018-03-24  20180324LTSK0   LT      SK  ...       10        2  0.212121\n",
       "2018-03-25  20180325LTSK0   LT      SK  ...        2        0  0.156250\n",
       "2018-03-27  20180327LTOB0   LT      OB  ...        3        0  0.103448\n",
       "2018-03-28  20180328LTOB0   LT      OB  ...       15        3  0.277778\n",
       "2018-03-29  20180329LTOB0   LT      OB  ...        3        0  0.156250\n",
       "\n",
       "[5 rows x 28 columns]"
      ]
     },
     "execution_count": 322,
     "metadata": {
      "tags": []
     },
     "output_type": "execute_result"
    },
    {
     "data": {
      "image/png": "[encoded data removed]",
      "text/plain": [
       "<Figure size 432x288 with 1 Axes>"
      ]
     },
     "metadata": {
      "needs_background": "light",
      "tags": []
     },
     "output_type": "display_data"
    }
   ],
   "source": [
    "import pandas as pd\n",
    "import numpy as np\n",
    "%matplotlib inline\n",
    "import matplotlib.pyplot as plt\n",
    "from pandas.tseries.offsets import MonthEnd\n",
    "\n",
    "from datetime import datetime\n",
    "\n",
    "\n",
    "\n",
    "# data = pd.read_csv(\"팀타자_통합.csv\")\n",
    "# 합친거로 이름바꾸고\n",
    "data = pd.read_csv(\"팀타자_통합.csv\",parse_dates=['GDAY_DS'])\n",
    "\n",
    "# 타율 \n",
    "data['rate'] = (data['HIT'].values+data['HR'].values)/data['AB'].values\n",
    "\n",
    "\n",
    "\n",
    "OB = data[data['T_ID']=='OB']\n",
    "HH = data[data['T_ID']=='HH']\n",
    "HT = data[data['T_ID']=='HT']\n",
    "KT = data[data['T_ID']=='KT']\n",
    "LG = data[data['T_ID']=='LG']\n",
    "LT = data[data['T_ID']=='LT']\n",
    "NC = data[data['T_ID']=='NC']\n",
    "SK = data[data['T_ID']=='SK']\n",
    "SS = data[data['T_ID']=='SS']\n",
    "WO= data[data['T_ID']=='WO']\n",
    "#총잔여\n",
    "27\n",
    "25\n",
    "26\n",
    "27\n",
    "25\n",
    "26\n",
    "25\n",
    "26\n",
    "25\n",
    "26\n",
    "\n",
    "#data = data[(data['T_ID']=='OB') ]\n",
    "#data = data[(data['T_ID']=='HH') ]\n",
    "#data = data[(data['T_ID']=='HT') ]\n",
    "#data = data[(data['T_ID']=='KT') ]\n",
    "#data = data[(data['T_ID']=='LG') ]\n",
    "data = data[(data['T_ID']=='LT') ]\n",
    "#data = data[(data['T_ID']=='NC') ]\n",
    "#data = data[(data['T_ID']=='SK') ]\n",
    "#data = data[(data['T_ID']=='SS') ]\n",
    "#data = data[(data['T_ID']=='WO') ]\n",
    "\n",
    "\n",
    "# 팀별로 하려면 데이터 이름만 data(전체)-> OB\n",
    "data = data.set_index('GDAY_DS')\n",
    "# plt.figure(figsize=(50,50))\n",
    "data.plot()\n",
    "data.head()"
   ]
  },
  {
   "cell_type": "code",
   "execution_count": 325,
   "metadata": {
    "colab": {
     "base_uri": "https://localhost:8080/",
     "height": 558
    },
    "id": "kk0thfWw7ZKU",
    "outputId": "7905282f-f8de-4cc5-b273-bd8082b6b729"
   },
   "outputs": [
    {
     "name": "stdout",
     "output_type": "stream",
     "text": [
      "26\n",
      "                rate\n",
      "GDAY_DS             \n",
      "2018-03-24  0.212121\n",
      "2018-03-25  0.156250\n",
      "2018-03-27  0.103448\n",
      "2018-03-28  0.277778\n",
      "2018-03-29  0.156250\n",
      "...              ...\n",
      "2020-06-12  0.250000\n",
      "2020-06-13  0.264706\n",
      "2020-06-14  0.414634\n",
      "2020-06-16  0.314286\n",
      "2020-06-17  0.303030\n",
      "\n",
      "[325 rows x 1 columns]\n"
     ]
    },
    {
     "data": {
      "image/png": "[encoded data removed]",
      "text/plain": [
       "<Figure size 432x288 with 1 Axes>"
      ]
     },
     "metadata": {
      "needs_background": "light",
      "tags": []
     },
     "output_type": "display_data"
    }
   ],
   "source": [
    "# 날짜 자르기(기준은 마음대로) 'rate'를 함\n",
    "\n",
    "#각 팀마다 잔여경기 수 만큼 date 설정\n",
    "split_date = pd.Timestamp('06-17-2020')\n",
    "train = data.loc[:split_date, ['rate']]\n",
    "test = data.loc[split_date:, ['rate']]\n",
    "\n",
    "ax = train.plot()\n",
    "test.plot(ax=ax)\n",
    "plt.legend(['train','test'])\n",
    "print(len(test))\n",
    "print(train)"
   ]
  },
  {
   "cell_type": "code",
   "execution_count": 326,
   "metadata": {
    "id": "f5DotKbCMZ4o"
   },
   "outputs": [],
   "source": [
    "train2 = list(np.array(train['rate']))\n",
    "test2 = list(np.array(test['rate']))\n",
    "train3 = []\n",
    "for i in train2:\n",
    "    a =[]\n",
    "    a.append(i)\n",
    "    train3.append(a)\n",
    "    \n",
    "test3 = []\n",
    "for i in test2:\n",
    "    a =[]\n",
    "    a.append(i)\n",
    "    test3.append(a)"
   ]
  },
  {
   "cell_type": "code",
   "execution_count": 327,
   "metadata": {
    "colab": {
     "base_uri": "https://localhost:8080/",
     "height": 34
    },
    "id": "AvucYHTL7ZKq",
    "outputId": "90fa0201-1d06-4894-f94a-1983a15894d7"
   },
   "outputs": [
    {
     "data": {
      "text/plain": [
       "325"
      ]
     },
     "execution_count": 327,
     "metadata": {
      "tags": []
     },
     "output_type": "execute_result"
    }
   ],
   "source": [
    "# win rate 이름 바꾸기(마음대로)\n",
    "train_sc_df = pd.DataFrame(train3, columns=['win_rate'], index=train.index) \n",
    "test_sc_df = pd.DataFrame(test3, columns=['win_rate'], index=test.index) \n",
    "train_sc_df.head() \n",
    "train_sc_df.shape[0]"
   ]
  },
  {
   "cell_type": "code",
   "execution_count": 328,
   "metadata": {
    "colab": {
     "base_uri": "https://localhost:8080/",
     "height": 287
    },
    "id": "hTE2B4o47ZK0",
    "outputId": "d469b422-9465-477e-ab11-6b52e7590691"
   },
   "outputs": [
    {
     "data": {
      "text/html": [
       "<div>\n",
       "<style scoped>\n",
       "    .dataframe tbody tr th:only-of-type {\n",
       "        vertical-align: middle;\n",
       "    }\n",
       "\n",
       "    .dataframe tbody tr th {\n",
       "        vertical-align: top;\n",
       "    }\n",
       "\n",
       "    .dataframe thead th {\n",
       "        text-align: right;\n",
       "    }\n",
       "</style>\n",
       "<table border=\"1\" class=\"dataframe\">\n",
       "  <thead>\n",
       "    <tr style=\"text-align: right;\">\n",
       "      <th></th>\n",
       "      <th>win_rate</th>\n",
       "      <th>shift_1</th>\n",
       "      <th>shift_2</th>\n",
       "      <th>shift_3</th>\n",
       "      <th>shift_4</th>\n",
       "      <th>shift_5</th>\n",
       "      <th>shift_6</th>\n",
       "    </tr>\n",
       "    <tr>\n",
       "      <th>GDAY_DS</th>\n",
       "      <th></th>\n",
       "      <th></th>\n",
       "      <th></th>\n",
       "      <th></th>\n",
       "      <th></th>\n",
       "      <th></th>\n",
       "      <th></th>\n",
       "    </tr>\n",
       "  </thead>\n",
       "  <tbody>\n",
       "    <tr>\n",
       "      <th>2018-03-24</th>\n",
       "      <td>0.212121</td>\n",
       "      <td>NaN</td>\n",
       "      <td>NaN</td>\n",
       "      <td>NaN</td>\n",
       "      <td>NaN</td>\n",
       "      <td>NaN</td>\n",
       "      <td>NaN</td>\n",
       "    </tr>\n",
       "    <tr>\n",
       "      <th>2018-03-25</th>\n",
       "      <td>0.156250</td>\n",
       "      <td>0.212121</td>\n",
       "      <td>NaN</td>\n",
       "      <td>NaN</td>\n",
       "      <td>NaN</td>\n",
       "      <td>NaN</td>\n",
       "      <td>NaN</td>\n",
       "    </tr>\n",
       "    <tr>\n",
       "      <th>2018-03-27</th>\n",
       "      <td>0.103448</td>\n",
       "      <td>0.156250</td>\n",
       "      <td>0.212121</td>\n",
       "      <td>NaN</td>\n",
       "      <td>NaN</td>\n",
       "      <td>NaN</td>\n",
       "      <td>NaN</td>\n",
       "    </tr>\n",
       "    <tr>\n",
       "      <th>2018-03-28</th>\n",
       "      <td>0.277778</td>\n",
       "      <td>0.103448</td>\n",
       "      <td>0.156250</td>\n",
       "      <td>0.212121</td>\n",
       "      <td>NaN</td>\n",
       "      <td>NaN</td>\n",
       "      <td>NaN</td>\n",
       "    </tr>\n",
       "    <tr>\n",
       "      <th>2018-03-29</th>\n",
       "      <td>0.156250</td>\n",
       "      <td>0.277778</td>\n",
       "      <td>0.103448</td>\n",
       "      <td>0.156250</td>\n",
       "      <td>0.212121</td>\n",
       "      <td>NaN</td>\n",
       "      <td>NaN</td>\n",
       "    </tr>\n",
       "    <tr>\n",
       "      <th>2018-03-30</th>\n",
       "      <td>0.250000</td>\n",
       "      <td>0.156250</td>\n",
       "      <td>0.277778</td>\n",
       "      <td>0.103448</td>\n",
       "      <td>0.156250</td>\n",
       "      <td>0.212121</td>\n",
       "      <td>NaN</td>\n",
       "    </tr>\n",
       "    <tr>\n",
       "      <th>2018-03-31</th>\n",
       "      <td>0.300000</td>\n",
       "      <td>0.250000</td>\n",
       "      <td>0.156250</td>\n",
       "      <td>0.277778</td>\n",
       "      <td>0.103448</td>\n",
       "      <td>0.156250</td>\n",
       "      <td>0.212121</td>\n",
       "    </tr>\n",
       "  </tbody>\n",
       "</table>\n",
       "</div>"
      ],
      "text/plain": [
       "            win_rate   shift_1   shift_2  ...   shift_4   shift_5   shift_6\n",
       "GDAY_DS                                   ...                              \n",
       "2018-03-24  0.212121       NaN       NaN  ...       NaN       NaN       NaN\n",
       "2018-03-25  0.156250  0.212121       NaN  ...       NaN       NaN       NaN\n",
       "2018-03-27  0.103448  0.156250  0.212121  ...       NaN       NaN       NaN\n",
       "2018-03-28  0.277778  0.103448  0.156250  ...       NaN       NaN       NaN\n",
       "2018-03-29  0.156250  0.277778  0.103448  ...  0.212121       NaN       NaN\n",
       "2018-03-30  0.250000  0.156250  0.277778  ...  0.156250  0.212121       NaN\n",
       "2018-03-31  0.300000  0.250000  0.156250  ...  0.103448  0.156250  0.212121\n",
       "\n",
       "[7 rows x 7 columns]"
      ]
     },
     "execution_count": 328,
     "metadata": {
      "tags": []
     },
     "output_type": "execute_result"
    }
   ],
   "source": [
    "\n",
    "for s in range(1,7): \n",
    "    train_sc_df['shift_{}'.format(s)] = train_sc_df['win_rate'].shift(s) \n",
    "    test_sc_df['shift_{}'.format(s)] = test_sc_df['win_rate'].shift(s)\n",
    "train_sc_df.head(7)"
   ]
  },
  {
   "cell_type": "code",
   "execution_count": 329,
   "metadata": {
    "colab": {
     "base_uri": "https://localhost:8080/",
     "height": 227
    },
    "id": "vbGJJ4LU7ZK_",
    "outputId": "fbd4a3ae-6a22-4335-c83d-a134bcda701c"
   },
   "outputs": [
    {
     "name": "stdout",
     "output_type": "stream",
     "text": [
      "<class 'pandas.core.frame.DataFrame'>\n",
      "<class 'numpy.ndarray'>\n",
      "(319, 1)\n",
      "[[0.25       0.15625    0.27777778 0.10344828 0.15625    0.21212121]\n",
      " [0.3        0.25       0.15625    0.27777778 0.10344828 0.15625   ]\n",
      " [0.3030303  0.3        0.25       0.15625    0.27777778 0.10344828]\n",
      " ...\n",
      " [0.26470588 0.25       0.3125     0.41025641 0.45945946 0.29032258]\n",
      " [0.41463415 0.26470588 0.25       0.3125     0.41025641 0.45945946]\n",
      " [0.31428571 0.41463415 0.26470588 0.25       0.3125     0.41025641]]\n",
      "(319, 6)\n",
      "(319, 1)\n"
     ]
    }
   ],
   "source": [
    "X_train = train_sc_df.dropna().drop('win_rate', axis=1)\n",
    "y_train = train_sc_df.dropna()[['win_rate']]\n",
    "\n",
    "X_test = test_sc_df.dropna().drop('win_rate', axis=1)\n",
    "y_test = test_sc_df.dropna()[['win_rate']]\n",
    "\n",
    "print(type(X_train)) \n",
    "X_train = X_train.values \n",
    "print(type(X_train)) \n",
    "X_test= X_test.values\n",
    "y_train = y_train.values \n",
    "y_test = y_test.values \n",
    "\n",
    "print(y_train.shape)\n",
    "print(X_train)\n",
    "print(X_train.shape) \n",
    "print(y_train.shape) \n"
   ]
  },
  {
   "cell_type": "code",
   "execution_count": 330,
   "metadata": {
    "colab": {
     "base_uri": "https://localhost:8080/",
     "height": 69
    },
    "id": "OKDAO0yf7ZLP",
    "outputId": "514ca783-5834-40be-e93b-093556f4ba93"
   },
   "outputs": [
    {
     "name": "stdout",
     "output_type": "stream",
     "text": [
      "319\n",
      "최종 DATA\n",
      "(319, 6, 1)\n"
     ]
    }
   ],
   "source": [
    "# 9,1은 위에 결과값 X_train.shape[1] ,Y_train.shape[1]\n",
    "print(X_train.shape[0])\n",
    "X_train_t = X_train.reshape(X_train.shape[0], 6, 1) \n",
    "X_test_t = X_test.reshape(X_test.shape[0], 6, 1) \n",
    " \n",
    "print(\"최종 DATA\") \n",
    "print(X_train_t.shape) \n",
    "# print(X_train_t) \n",
    "# print(y_train) \n"
   ]
  },
  {
   "cell_type": "code",
   "execution_count": 331,
   "metadata": {
    "colab": {
     "base_uri": "https://localhost:8080/",
     "height": 227
    },
    "id": "dsqYbdut7ZLc",
    "outputId": "f2ea7a6b-8189-4a57-f55a-197562957beb",
    "scrolled": true
   },
   "outputs": [
    {
     "name": "stdout",
     "output_type": "stream",
     "text": [
      "Model: \"sequential\"\n",
      "_________________________________________________________________\n",
      "Layer (type)                 Output Shape              Param #   \n",
      "=================================================================\n",
      "lstm (LSTM)                  (None, 20)                1760      \n",
      "_________________________________________________________________\n",
      "dense (Dense)                (None, 1)                 21        \n",
      "=================================================================\n",
      "Total params: 1,781\n",
      "Trainable params: 1,781\n",
      "Non-trainable params: 0\n",
      "_________________________________________________________________\n"
     ]
    }
   ],
   "source": [
    "from keras.layers import LSTM  \n",
    "from keras.models import Sequential  \n",
    "from keras.layers import Dense  \n",
    "import keras.backend as K  \n",
    "from keras.callbacks import EarlyStopping \n",
    "\n",
    " \n",
    "K.clear_session() \n",
    "      \n",
    "model = Sequential() # Sequeatial Model  \n",
    "model.add(LSTM(20, input_shape=(6, 1))) # (timestep, feature)  \n",
    "model.add(Dense(1)) # output = 1  1  \n",
    "model.compile(loss='mean_squared_error', optimizer='adam',metrics=['accuracy'])\n",
    "model.summary() \n"
   ]
  },
  {
   "cell_type": "code",
   "execution_count": 332,
   "metadata": {
    "colab": {
     "base_uri": "https://localhost:8080/",
     "height": 227
    },
    "id": "xfasG3pc7ZLh",
    "outputId": "87bc97de-ae96-4296-b85a-96b34f17c92a"
   },
   "outputs": [
    {
     "name": "stdout",
     "output_type": "stream",
     "text": [
      "Epoch 1/100\n",
      "11/11 [==============================] - 0s 6ms/step - loss: 0.0832 - accuracy: 0.0000e+00\n",
      "Epoch 2/100\n",
      "11/11 [==============================] - 0s 6ms/step - loss: 0.0339 - accuracy: 0.0000e+00\n",
      "Epoch 3/100\n",
      "11/11 [==============================] - 0s 5ms/step - loss: 0.0118 - accuracy: 0.0000e+00\n",
      "Epoch 4/100\n",
      "11/11 [==============================] - 0s 6ms/step - loss: 0.0089 - accuracy: 0.0000e+00\n",
      "Epoch 5/100\n",
      "11/11 [==============================] - 0s 6ms/step - loss: 0.0093 - accuracy: 0.0000e+00\n",
      "Epoch 00005: early stopping\n"
     ]
    },
    {
     "data": {
      "text/plain": [
       "<tensorflow.python.keras.callbacks.History at 0x7fc2371fcb38>"
      ]
     },
     "execution_count": 332,
     "metadata": {
      "tags": []
     },
     "output_type": "execute_result"
    }
   ],
   "source": [
    "early_stop = EarlyStopping(monitor='loss', patience=1, verbose=1) \n",
    "\n",
    " \n",
    "model.fit(X_train_t, y_train, epochs=100, \n",
    "          batch_size=30, verbose=1, callbacks=[early_stop]) \n"
   ]
  },
  {
   "cell_type": "code",
   "execution_count": 333,
   "metadata": {
    "colab": {
     "base_uri": "https://localhost:8080/",
     "height": 89
    },
    "id": "ozn0Mzt27ZLn",
    "outputId": "abe146b7-0779-4fae-ec2f-fee6b4b26f83"
   },
   "outputs": [
    {
     "name": "stdout",
     "output_type": "stream",
     "text": [
      "WARNING:tensorflow:11 out of the last 11 calls to <function Model.make_test_function.<locals>.test_function at 0x7fc236fb5e18> triggered tf.function retracing. Tracing is expensive and the excessive number of tracings could be due to (1) creating @tf.function repeatedly in a loop, (2) passing tensors with different shapes, (3) passing Python objects instead of tensors. For (1), please define your @tf.function outside of the loop. For (2), @tf.function has experimental_relax_shapes=True option that relaxes argument shapes that can avoid unnecessary retracing. For (3), please refer to https://www.tensorflow.org/tutorials/customization/performance#python_or_tensor_args and https://www.tensorflow.org/api_docs/python/tf/function for  more details.\n",
      "1/1 [==============================] - 0s 7ms/step - loss: 0.0058 - accuracy: 0.0000e+00\n",
      "[0.005846747197210789, 0.0]\n"
     ]
    }
   ],
   "source": [
    "accuracy = model.evaluate(X_test_t,y_test)\n",
    "print(accuracy) # 정확도"
   ]
  },
  {
   "cell_type": "code",
   "execution_count": 334,
   "metadata": {
    "colab": {
     "base_uri": "https://localhost:8080/",
     "height": 142
    },
    "id": "DA05VrkEgHji",
    "outputId": "336ed396-40b6-4040-dcd0-0ea1b6ec9182"
   },
   "outputs": [
    {
     "name": "stdout",
     "output_type": "stream",
     "text": [
      "WARNING:tensorflow:11 out of the last 28 calls to <function Model.make_predict_function.<locals>.predict_function at 0x7fc2365bbf28> triggered tf.function retracing. Tracing is expensive and the excessive number of tracings could be due to (1) creating @tf.function repeatedly in a loop, (2) passing tensors with different shapes, (3) passing Python objects instead of tensors. For (1), please define your @tf.function outside of the loop. For (2), @tf.function has experimental_relax_shapes=True option that relaxes argument shapes that can avoid unnecessary retracing. For (3), please refer to https://www.tensorflow.org/tutorials/customization/performance#python_or_tensor_args and https://www.tensorflow.org/api_docs/python/tf/function for  more details.\n"
     ]
    },
    {
     "data": {
      "text/plain": [
       "array([0.31323862, 0.3095173 , 0.30242708, 0.29920703, 0.306237  ,\n",
       "       0.305782  , 0.30988726, 0.31171575, 0.320998  , 0.3137258 ,\n",
       "       0.31170228, 0.3217255 , 0.31749195, 0.31594574, 0.31023383,\n",
       "       0.31330317, 0.31731033, 0.3225314 , 0.33121327, 0.3275836 ],\n",
       "      dtype=float32)"
      ]
     },
     "execution_count": 334,
     "metadata": {
      "tags": []
     },
     "output_type": "execute_result"
    }
   ],
   "source": [
    "import numpy as np\n",
    "prediction = model.predict(X_test_t)\n",
    "pre=prediction.flatten()\n",
    "\n",
    "pre\n"
   ]
  },
  {
   "cell_type": "code",
   "execution_count": 336,
   "metadata": {
    "id": "YYVd5M_lnkvk"
   },
   "outputs": [],
   "source": [
    "import csv\n",
    "f = open('잔여경기 (1).csv','r',encoding='UTF-8')\n",
    "rdr = csv.reader(f)\n",
    "lines = []\n",
    "num=0\n",
    "for line in rdr:\n",
    "    if line[0] == \"롯데\":\n",
    "      line[2] = pre[num]\n",
    "      num = num+1\n",
    "    lines.append(line)\n",
    "f.close()\n",
    "\n",
    "f = open('잔여경기 (1).csv','w',encoding='UTF-8',newline='') #원본을 훼손할 위험이 있으니 다른 파일에 저장하는 것을 추천합니다.\n",
    "wr = csv.writer(f)\n",
    "wr.writerows(lines)\n",
    "\n",
    "f.close()"
   ]
  },
  {
   "cell_type": "code",
   "execution_count": null,
   "metadata": {
    "id": "43w28y-cxJw8"
   },
   "outputs": [],
   "source": [
    "from google.colab import drive\n",
    "drive.mount('/content/drive')"
   ]
  },
  {
   "cell_type": "code",
   "execution_count": 135,
   "metadata": {
    "id": "2tQ1UUBUlOUM"
   },
   "outputs": [],
   "source": [
    "import numpy as np\n",
    "df=pd.DataFrame(prediction)\n",
    "df.to_csv('타율.csv',index=False)"
   ]
  },
  {
   "cell_type": "code",
   "execution_count": 133,
   "metadata": {
    "colab": {
     "base_uri": "https://localhost:8080/",
     "height": 72
    },
    "id": "7O4jFomF7ZLx",
    "outputId": "43fa204e-382e-4599-bd53-5d96d3679027"
   },
   "outputs": [
    {
     "name": "stdout",
     "output_type": "stream",
     "text": [
      "WARNING:tensorflow:10 out of the last 13 calls to <function Model.make_predict_function.<locals>.predict_function at 0x7fc2622e8950> triggered tf.function retracing. Tracing is expensive and the excessive number of tracings could be due to (1) creating @tf.function repeatedly in a loop, (2) passing tensors with different shapes, (3) passing Python objects instead of tensors. For (1), please define your @tf.function outside of the loop. For (2), @tf.function has experimental_relax_shapes=True option that relaxes argument shapes that can avoid unnecessary retracing. For (3), please refer to https://www.tensorflow.org/tutorials/customization/performance#python_or_tensor_args and https://www.tensorflow.org/api_docs/python/tf/function for  more details.\n",
      "[0.30014077]\n"
     ]
    }
   ],
   "source": [
    "prediction = model.predict(X_test_t)\n",
    "a=sum(prediction)/len(prediction)\n",
    "print(a)\n",
    "\n",
    "# 하나하나를 그 폴더에 넣으면 되요 근데 그 자동으로 파일에 넣는 코드를 만들어야 될듯 민정아 너 믿는다\n",
    "#  노가다는 너무 힘들어서 그 코드 알아서 짜서 공유좀**(사실 나도 못해서 코드 점)"
   ]
  },
  {
   "cell_type": "code",
   "execution_count": 14,
   "metadata": {
    "id": "_MuhtYa97ZMF"
   },
   "outputs": [],
   "source": [
    "\n",
    "#총잔여\n",
    "# 27  OB  [0.34040606]\n",
    "# 25 HH  [0.27635917]\n",
    "# 26HT [0.29584846]\n",
    "# 27KT [0.33733985]\n",
    "# 25LG [0.31235912]\n",
    "# 26LT [0.2962948]\n",
    "# 25NC [0.31340325]\n",
    "# 26SK [0.28326464]\n",
    "# 25SS [0.323929]\n",
    "# 26WO [0.30014077]"
   ]
  }
 ],
 "metadata": {
  "colab": {
   "name": "타율(LSTM).ipynb",
   "provenance": []
  },
  "kernelspec": {
   "display_name": "Python 3",
   "language": "python",
   "name": "python3"
  },
  "language_info": {
   "codemirror_mode": {
    "name": "ipython",
    "version": 3
   },
   "file_extension": ".py",
   "mimetype": "text/x-python",
   "name": "python",
   "nbconvert_exporter": "python",
   "pygments_lexer": "ipython3",
   "version": "3.7.1"
  }
 },
 "nbformat": 4,
 "nbformat_minor": 1
}
